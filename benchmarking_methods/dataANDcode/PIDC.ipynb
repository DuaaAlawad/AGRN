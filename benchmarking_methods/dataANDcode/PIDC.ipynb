{
 "cells": [
  {
   "cell_type": "code",
   "execution_count": 2,
   "metadata": {},
   "outputs": [
    {
     "name": "stdout",
     "output_type": "stream",
     "text": [
      "2023-02-02T19:51:48.707"
     ]
    }
   ],
   "source": [
    "# Include packages\n",
    "\n",
    "using NetworkInference\n",
    "using LightGraphs\n",
    "using GraphPlot\n",
    "using Dates\n",
    "print(now())"
   ]
  },
  {
   "cell_type": "code",
   "execution_count": 3,
   "metadata": {},
   "outputs": [
    {
     "data": {
      "text/plain": [
       "0.15"
      ]
     },
     "execution_count": 3,
     "metadata": {},
     "output_type": "execute_result"
    }
   ],
   "source": [
    "\n",
    "\n",
    "# ...Or override dataset_name to point to your data file:\n",
    "#dataset_name = string(\"../simulated_datasets/\", number_of_genes, \"_\", organism, \"_\", dataset_size, \".txt\")\n",
    "dataset_name = string(\"/home/dmalawad/Research/AGRN_tool/benchmarking_methods/data/DREAM5/net1_expression_data.txt\")\n",
    "\n",
    "# Choose an algorithm\n",
    "# PIDCNetworkInference(), PUCNetworkInference(), CLRNetworkInference() or MINetworkInference()\n",
    "algorithm = PIDCNetworkInference()\n",
    "\n",
    "# Keep the top x% highest-scoring edges\n",
    "# 0.0 < threshold < 1.0\n",
    "threshold = 0.15"
   ]
  },
  {
   "cell_type": "code",
   "execution_count": 4,
   "metadata": {},
   "outputs": [
    {
     "name": "stdout",
     "output_type": "stream",
     "text": [
      " 19.417603 seconds (31.15 M allocations: 38.324 GiB, 13.82% gc time)\n"
     ]
    }
   ],
   "source": [
    "# Get the genes and discretize the expression levels\n",
    "\n",
    "@time genes = get_nodes(dataset_name);\n",
    "\n",
    "# Troubleshooting: the default discretizer is \"bayesian_blocks\"\n",
    "# If this doesn't work, try the \"uniform_width\" discretizer:\n",
    "# @time genes = get_nodes(dataset_name, discretizer = \"uniform_width\");"
   ]
  },
  {
   "cell_type": "code",
   "execution_count": 5,
   "metadata": {},
   "outputs": [
    {
     "name": "stdout",
     "output_type": "stream",
     "text": [
      "859.825289 seconds (34.51 G allocations: 1.086 TiB, 13.64% gc time)\n"
     ]
    }
   ],
   "source": [
    "# Infer the network\n",
    "\n",
    "@time network = InferredNetwork(algorithm, genes);"
   ]
  },
  {
   "cell_type": "code",
   "execution_count": 6,
   "metadata": {},
   "outputs": [],
   "source": [
    "write_network_file(\"/home/dmalawad/Research/AGRN_tool/benchmarking_methods/Infer_DREAM5_net11_expression_data.csv\", network);"
   ]
  },
  {
   "cell_type": "code",
   "execution_count": 7,
   "metadata": {},
   "outputs": [
    {
     "name": "stdout",
     "output_type": "stream",
     "text": [
      "2023-02-02T20:06:32.889"
     ]
    }
   ],
   "source": [
    "print(now())"
   ]
  }
 ],
 "metadata": {
  "kernelspec": {
   "display_name": "Julia 1.8.2",
   "language": "julia",
   "name": "julia-1.8"
  },
  "language_info": {
   "file_extension": ".jl",
   "mimetype": "application/julia",
   "name": "julia",
   "version": "1.1.0"
  }
 },
 "nbformat": 4,
 "nbformat_minor": 2
}
