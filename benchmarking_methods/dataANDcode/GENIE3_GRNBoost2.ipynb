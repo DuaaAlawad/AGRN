{
 "cells": [
  {
   "cell_type": "code",
   "execution_count": 13,
   "id": "85d265cb",
   "metadata": {},
   "outputs": [],
   "source": [
    "from optparse import OptionParser\n",
    "import os\n",
    "import sys\n",
    "import pandas as pd\n",
    "from arboreto.algo import grnboost2, genie3\n",
    "from arboreto.utils import load_tf_names\n",
    "from distributed import Client, LocalCluster\n",
    "from datetime import datetime\n"
   ]
  },
  {
   "cell_type": "code",
   "execution_count": 14,
   "id": "4b0f466d",
   "metadata": {},
   "outputs": [],
   "source": [
    "# pip install arboreto"
   ]
  },
  {
   "cell_type": "code",
   "execution_count": 15,
   "id": "63d33529",
   "metadata": {},
   "outputs": [
    {
     "name": "stdout",
     "output_type": "stream",
     "text": [
      "03/02/2023 11:42:38\n"
     ]
    }
   ],
   "source": [
    "from datetime import datetime\n",
    "now = datetime.now()\n",
    "print(now.strftime(\"%d/%m/%Y %H:%M:%S\"))\n"
   ]
  },
  {
   "cell_type": "code",
   "execution_count": 16,
   "id": "24bdb4e1",
   "metadata": {},
   "outputs": [
    {
     "name": "stderr",
     "output_type": "stream",
     "text": [
      "C:\\Users\\duaa.alawad\\anaconda3\\lib\\site-packages\\distributed\\node.py:180: UserWarning: Port 8787 is already in use.\n",
      "Perhaps you already have a cluster running?\n",
      "Hosting the HTTP server on port 50585 instead\n",
      "  warnings.warn(\n"
     ]
    }
   ],
   "source": [
    "inFile='/home/dmalawad/Research/AGRN_tool/benchmarking_methods/data/DREAM5/net1_expression_data.txt'\n",
    "# outFile='C:/Users/duaa.alawad/Desktop/Julia/network_inference_tutorials-master/simulated_datasets/DREAM5/infer_GENIE3_net3_expression_data.tsv'\n",
    "inDF = pd.read_csv(inFile, sep = '\\t', index_col = 0, header = 0)\n",
    "client = Client(processes = False)    \n"
   ]
  },
  {
   "cell_type": "code",
   "execution_count": null,
   "id": "deb17a82",
   "metadata": {},
   "outputs": [],
   "source": []
  },
  {
   "attachments": {},
   "cell_type": "markdown",
   "id": "627ab38b",
   "metadata": {},
   "source": [
    "# GENIE#3"
   ]
  },
  {
   "cell_type": "code",
   "execution_count": 17,
   "id": "eff53cb6",
   "metadata": {},
   "outputs": [],
   "source": [
    "# network = genie3(inDF.to_numpy(), client_or_address = client, gene_names = inDF.columns)\n",
    "# network.to_csv('C:/Users/duaa.alawad/Desktop/Julia/network_inference_tutorials-master/simulated_datasets/DREAM5/infer_GENIE3_net2_expression_data.tsv', index = False, sep = '\\t')\n",
    "# print(now.strftime(\"%d/%m/%Y %H:%M:%S\"))"
   ]
  },
  {
   "attachments": {},
   "cell_type": "markdown",
   "id": "83809fef",
   "metadata": {},
   "source": [
    "# GRNBoost2"
   ]
  },
  {
   "cell_type": "code",
   "execution_count": null,
   "id": "6b69ebaa",
   "metadata": {},
   "outputs": [],
   "source": [
    "network = grnboost2(inDF.to_numpy(), client_or_address = client, gene_names = inDF.columns)\n",
    "network.to_csv('/home/dmalawad/Research/AGRN_tool/benchmarking_methods/infer_GRNBoot2_net11_expression_data.tsv', index = False, sep = '\\t')\n",
    "now = datetime.now()\n",
    "print(now.strftime(\"%d/%m/%Y %H:%M:%S\"))"
   ]
  },
  {
   "cell_type": "code",
   "execution_count": null,
   "id": "98a14a6a",
   "metadata": {},
   "outputs": [],
   "source": []
  }
 ],
 "metadata": {
  "kernelspec": {
   "display_name": "Python 3",
   "language": "python",
   "name": "python3"
  },
  "language_info": {
   "codemirror_mode": {
    "name": "ipython",
    "version": 3
   },
   "file_extension": ".py",
   "mimetype": "text/x-python",
   "name": "python",
   "nbconvert_exporter": "python",
   "pygments_lexer": "ipython3",
   "version": "3.8.10 (default, Mar 15 2022, 12:22:08) \n[GCC 9.4.0]"
  },
  "vscode": {
   "interpreter": {
    "hash": "31f2aee4e71d21fbe5cf8b01ff0e069b9275f58929596ceb00d14d90e3e16cd6"
   }
  }
 },
 "nbformat": 4,
 "nbformat_minor": 5
}
